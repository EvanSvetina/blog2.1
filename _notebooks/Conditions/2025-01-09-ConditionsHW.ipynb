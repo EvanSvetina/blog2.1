{
 "cells": [
  {
   "cell_type": "raw",
   "metadata": {
    "vscode": {
     "languageId": "raw"
    }
   },
   "source": [
    "---\n",
    "layout: post\n",
    "title: Conditions\n",
    "description: What is conditions? Conditional Statements are what happens next in the program when a certain condition is met. \n",
    "toc: true\n",
    "permalink: /csse/javascript/fundamentals/conditionals/hw\n",
    "---"
   ]
  },
  {
   "cell_type": "markdown",
   "metadata": {},
   "source": [
    "## Homeworks \n",
    "\n",
    "Before starting the options, \n",
    "\n",
    "#### Option 1: Grade Checker \n",
    "Example for the grade checker:\n",
    "\n",
    "\"F\" if the grade is below 60.\n",
    "\"D\" if the grade is between 60 and 69.\n",
    "\"C\" if the grade is between 70 and 79.\n",
    "\"B\" if the grade is between 80 and 89.\n",
    "\"A\" if the grade is 90 or above.\n",
    "\n",
    "#### Option 2: Weather app\n",
    "Example for a weather app:\n",
    "\n",
    "If the weather is sunny, print: \"It's a great day to go outside!\"\n",
    "If the weather is rainy, print: \"Don't forget your umbrella!\"\n",
    "If the weather is snowy, print: \"Stay warm and safe!\"\n",
    "\n",
    "#### Option 3: Your idea\n",
    "Make any If-Then, If, or Then-If statements with different ideas.\n",
    "\n",
    "\n",
    "#### Tips:\n",
    "##### Format: "
   ]
  },
  {
   "cell_type": "code",
   "execution_count": 6,
   "metadata": {
    "vscode": {
     "languageId": "javascript"
    }
   },
   "outputs": [
    {
     "data": {
      "application/javascript": "//Time to get creative\n//DEADLOCK QUIZ\n\nlet answer1 = \"haze\"\nlet answer2 = \"lash\"\nlet answer3 = \"kinetic pulse\"\nlet answer4 = \"The Cursed Apple\"\nlet answer5 = \"Ava\"\n\n\nconsole.log(\"Question 1: Who is the best character in the game?\")\n\nif (answer1 === \"haze\" || answer1 === \"Haze\"){\n    console.log(\"Correct! Next question\")\n} else {\n    if (Math.random()>0.9){\n        console.log(\"Not quite. We're on a time crunch though, so move on for now.\")\n    } else {\n        console.log(\"Not quite! Let's move on for now.\")\n    }\n    \n}\n\n\nconsole.log(\"Question 2: Who is the coolest character in the game?\")\n\nif (answer2 === \"lash\" || answer2 === \"Lash\"){\n    console.log(\"Correct! Next question\")\n} else {\n    if (Math.random()>0.9){\n        console.log(\"Not quite. We're on a time crunch though, so move on for now.\")\n    } else {\n        console.log(\"Not quite! Let's move on for now.\")\n    }\n    \n}\n\nconsole.log(\"Question 3: What is Dynamo's 1 ability?\")\n\nif (answer3 === \"kinetic pulse\" || answer3 === \"Kinetic Pulse\"){\n    console.log(\"Correct! Next question\")\n} else {\n    if (Math.random()>0.9){\n        console.log(\"Not quite. We're on a time crunch though, so move on for now.\")\n    } else {\n        console.log(\"Not quite! Let's move on for now.\")\n    }\n    \n}\n\nconsole.log(\"Question 4: What's the name of the map the game takes place in?\")\n\nif (answer4 === \"The Cursed Apple\" || answer4 === \"the cursed apple\"){\n    console.log(\"Correct! Next question\")\n} else {\n    if (Math.random()>0.9){\n        console.log(\"Not quite. We're on a time crunch though, so move on for now.\")\n    } else {\n        console.log(\"Not quite! Let's move on for now.\")\n    }\n    \n}\n\n\nconsole.log(\"Question 5: What's Calico's cat named?\")\n\nif (answer5 === \"ava\" || answer5 === \"Ava\"){\n    console.log(\"Correct! Next question\")\n} else {\n    if (Math.random()>0.9){\n        console.log(\"Not quite. We're on a time crunch though, so move on for now.\")\n    } else {\n        console.log(\"Not quite! Let's move on for now.\")\n    }\n    \n}\n",
      "text/plain": [
       "<IPython.core.display.Javascript object>"
      ]
     },
     "metadata": {},
     "output_type": "display_data"
    }
   ],
   "source": [
    "%%js\n",
    "//Time to get creative\n",
    "//DEADLOCK QUIZ\n",
    "\n",
    "let answer1 = \"haze\"\n",
    "let answer2 = \"lash\"\n",
    "let answer3 = \"kinetic pulse\"\n",
    "let answer4 = \"The Cursed Apple\"\n",
    "let answer5 = \"Ava\"\n",
    "\n",
    "\n",
    "console.log(\"Question 1: Who is the best character in the game?\")\n",
    "\n",
    "if (answer1 === \"haze\" || answer1 === \"Haze\"){\n",
    "    console.log(\"Correct! Next question\")\n",
    "} else {\n",
    "    if (Math.random()>0.9){\n",
    "        console.log(\"Not quite. We're on a time crunch though, so move on for now.\")\n",
    "    } else {\n",
    "        console.log(\"Not quite! Let's move on for now.\")\n",
    "    }\n",
    "    \n",
    "}\n",
    "\n",
    "\n",
    "console.log(\"Question 2: Who is the coolest character in the game?\")\n",
    "\n",
    "if (answer2 === \"lash\" || answer2 === \"Lash\"){\n",
    "    console.log(\"Correct! Next question\")\n",
    "} else {\n",
    "    if (Math.random()>0.9){\n",
    "        console.log(\"Not quite. We're on a time crunch though, so move on for now.\")\n",
    "    } else {\n",
    "        console.log(\"Not quite! Let's move on for now.\")\n",
    "    }\n",
    "    \n",
    "}\n",
    "\n",
    "console.log(\"Question 3: What is Dynamo's 1 ability?\")\n",
    "\n",
    "if (answer3 === \"kinetic pulse\" || answer3 === \"Kinetic Pulse\"){\n",
    "    console.log(\"Correct! Next question\")\n",
    "} else {\n",
    "    if (Math.random()>0.9){\n",
    "        console.log(\"Not quite. We're on a time crunch though, so move on for now.\")\n",
    "    } else {\n",
    "        console.log(\"Not quite! Let's move on for now.\")\n",
    "    }\n",
    "    \n",
    "}\n",
    "\n",
    "console.log(\"Question 4: What's the name of the map the game takes place in?\")\n",
    "\n",
    "if (answer4 === \"The Cursed Apple\" || answer4 === \"the cursed apple\"){\n",
    "    console.log(\"Correct! Next question\")\n",
    "} else {\n",
    "    if (Math.random()>0.9){\n",
    "        console.log(\"Not quite. We're on a time crunch though, so move on for now.\")\n",
    "    } else {\n",
    "        console.log(\"Not quite! Let's move on for now.\")\n",
    "    }\n",
    "    \n",
    "}\n",
    "\n",
    "\n",
    "console.log(\"Question 5: What's Calico's cat named?\")\n",
    "\n",
    "if (answer5 === \"ava\" || answer5 === \"Ava\"){\n",
    "    console.log(\"Correct! Next question\")\n",
    "} else {\n",
    "    if (Math.random()>0.9){\n",
    "        console.log(\"Not quite. We're on a time crunch though, so move on for now.\")\n",
    "    } else {\n",
    "        console.log(\"Not quite! Let's move on for now.\")\n",
    "    }\n",
    "    \n",
    "}"
   ]
  },
  {
   "cell_type": "code",
   "execution_count": null,
   "metadata": {
    "vscode": {
     "languageId": "javascript"
    }
   },
   "outputs": [],
   "source": []
  }
 ],
 "metadata": {
  "kernelspec": {
   "display_name": "venv",
   "language": "python",
   "name": "python3"
  },
  "language_info": {
   "codemirror_mode": {
    "name": "ipython",
    "version": 3
   },
   "file_extension": ".py",
   "mimetype": "text/x-python",
   "name": "python",
   "nbconvert_exporter": "python",
   "pygments_lexer": "ipython3",
   "version": "3.13.1"
  }
 },
 "nbformat": 4,
 "nbformat_minor": 2
}
