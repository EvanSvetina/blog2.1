{
 "cells": [
  {
   "cell_type": "code",
   "execution_count": 5,
   "metadata": {
    "vscode": {
     "languageId": "javascript"
    }
   },
   "outputs": [
    {
     "data": {
      "application/javascript": "function Person(name, ride, food, favColor, tickets, money) { \n    this.name = name;\n    this.ride = ride;\n    this.food = food;\n    this.favColor = favColor;\n    this.tickets = tickets;\n    this.money = money;\n    this.whoWon = function (){\n        console.log(this.name + \" won the coin flip! Now they get to decide what to do today.\");\n    };\n}\n\nconst person1 = new Person(\"Evan\", \"Ghost Rider\", \"Popcorn\", \"Yellow\", 100, 500); \nconst person2 = new Person(\"Nigilekbam\", \"Teacups\", \"Fried dough\", \"Oshi No Ko Purple\", 120, 0.75); \n\nlet foodEaten = false;\nlet coinFlipNum = Math.floor(2 * Math.random());\nlet coin;\n\nif (coinFlipNum === 0){ \n    coin = \"heads\";\n} else {\n    coin = \"tails\";\n}\nif (coin === \"heads\"){ \n    console.log(person1.whoWon());  \n    if (person1.money >= 10){\n        person1.money -= 10;\n        console.log(\"Firstly, \" + person1.name + \" bought 2 \" + person1.food + \"s for himself and his friend.\") // Added spaces\n        foodEaten = true;\n    } else {\n        console.log(person1.name + \" is broke as heck so both people are hungry all day.\") // Added space\n        foodEaten = false;\n    }\n    console.log(\"Now, \" + person1.name + \" has \" + person1.money + \" dollars left over.\");\n\n    let pooledTickets = person1.tickets + person2.tickets;\n    let rideTotal = Math.floor(pooledTickets / 7) \n    if (pooledTickets > 7) {\n        console.log(\"Afterwards, both people decide to ride \" + person1.ride + \" a total of \" + rideTotal + \" times in a row.\") // Added spaces\n        person1.tickets = 0;\n        person2.tickets = 0;\n    } else {\n        console.log(\"The duo does not have enough tickets to ride \" + person1.name + \"'s favorite ride.\")\n    }\n    \n    if (foodEaten === true && Math.random() > 0.7){ \n        console.log(\"After doing that, both people are nauseous and puke their guts out.\");\n    } else {\n        console.log(\"After that, both people are pretty tired and want to play some games.\");\n    }\n\n    let pooledMoney = person1.money + person2.money;\n    let chanceToWin = 0.01 * Math.random() * pooledMoney;\n    if (chanceToWin > 1){\n        console.log(\"After pooling together all their money, the duo managed to get a \" + person1.favColor + \" plushie. Their favorite!\"); \n    } else {\n        console.log(\"despite their valiant efforts, the games win once again. The duo loses all their money trying to get a \" + person1.favColor + \" plushie for \" + person1.name); \n    }\n    person1.money = 0;\n    person2.money = 0;\n\n} else {\n    console.log(person2.whoWon()); \n    if (person2.money >= 10){\n        person2.money -= 10;\n        console.log(\"Firstly, \" + person2.name + \" bought 2 \" + person2.food + \"s for himself and his friend.\") \n        foodEaten = true;\n    } else {\n        console.log(person2.name + \" is broke as heck so both people are hungry all day.\") \n        foodEaten = false;\n    }\n    console.log(\"Now, \" + person2.name + \" has \" + person2.money + \" dollars left over.\");\n\n    let rideTotal = Math.floor(person2.tickets / 5)\n    if (person2.tickets > 5) {\n        console.log(\"Afterwards, both people decide to ride \" + person2.ride + \" a total of \" + rideTotal + \" times in a row.\") \n        person2.tickets = 0;\n    } else {\n        console.log(person2.name + \" cannot afford the ride for both people, and \" + person1.name + \" isn't sharing, so no \" + person2.ride + \" for them\") \n    }\n    if (foodEaten === true && Math.random() > 0.7){ // Changed = to ===\n        console.log(\"After doing that, both people are nauseous and puke their guts out.\");\n    } else {\n        console.log(\"After that, both people are pretty tired and want to play some games.\");\n    }\n\n    let pooledMoney = person1.money + person2.money;\n    chanceToWin = 0.01 * Math.random() * pooledMoney;\n    if (chanceToWin > 1){\n        console.log(\"After pooling together all their money, the duo managed to get a \" + person2.favColor + \" plushie. Their favorite!\"); \n    } else {\n        console.log(\"Despite their valiant efforts, the games win once again. The duo loses all their money trying to get a \" + person2.favColor + \" plushie for \" + person2.name);\n    }\n    person1.money = 0;\n    person2.money = 0;\n}\nconsole.log(\"After all this, \" + person1.name + \" and \" + person2.name + \" head home after a long day at the amusement park.\");\n",
      "text/plain": [
       "<IPython.core.display.Javascript object>"
      ]
     },
     "metadata": {},
     "output_type": "display_data"
    }
   ],
   "source": [
    "%%js\n",
    "function Person(name, ride, food, favColor, tickets, money) { \n",
    "    this.name = name;\n",
    "    this.ride = ride;\n",
    "    this.food = food;\n",
    "    this.favColor = favColor;\n",
    "    this.tickets = tickets;\n",
    "    this.money = money;\n",
    "    this.whoWon = function (){\n",
    "        console.log(this.name + \" won the coin flip! Now they get to decide what to do today.\");\n",
    "    };\n",
    "}\n",
    "\n",
    "const person1 = new Person(\"Evan\", \"Ghost Rider\", \"Popcorn\", \"Yellow\", 100, 500); \n",
    "const person2 = new Person(\"Nigilekbam\", \"Teacups\", \"Fried dough\", \"Oshi No Ko Purple\", 120, 0.75); \n",
    "\n",
    "let foodEaten = false;\n",
    "let coinFlipNum = Math.floor(2 * Math.random());\n",
    "let coin;\n",
    "\n",
    "if (coinFlipNum === 0){ \n",
    "    coin = \"heads\";\n",
    "} else {\n",
    "    coin = \"tails\";\n",
    "}\n",
    "if (coin === \"heads\"){ \n",
    "    console.log(person1.whoWon());  \n",
    "    if (person1.money >= 10){\n",
    "        person1.money -= 10;\n",
    "        console.log(\"Firstly, \" + person1.name + \" bought 2 \" + person1.food + \"s for himself and his friend.\") // Added spaces\n",
    "        foodEaten = true;\n",
    "    } else {\n",
    "        console.log(person1.name + \" is broke as heck so both people are hungry all day.\") // Added space\n",
    "        foodEaten = false;\n",
    "    }\n",
    "    console.log(\"Now, \" + person1.name + \" has \" + person1.money + \" dollars left over.\");\n",
    "\n",
    "    let pooledTickets = person1.tickets + person2.tickets;\n",
    "    let rideTotal = Math.floor(pooledTickets / 7) \n",
    "    if (pooledTickets > 7) {\n",
    "        console.log(\"Afterwards, both people decide to ride \" + person1.ride + \" a total of \" + rideTotal + \" times in a row.\") // Added spaces\n",
    "        person1.tickets = 0;\n",
    "        person2.tickets = 0;\n",
    "    } else {\n",
    "        console.log(\"The duo does not have enough tickets to ride \" + person1.name + \"'s favorite ride.\")\n",
    "    }\n",
    "    \n",
    "    if (foodEaten === true && Math.random() > 0.7){ \n",
    "        console.log(\"After doing that, both people are nauseous and puke their guts out.\");\n",
    "    } else {\n",
    "        console.log(\"After that, both people are pretty tired and want to play some games.\");\n",
    "    }\n",
    "\n",
    "    let pooledMoney = person1.money + person2.money;\n",
    "    let chanceToWin = 0.01 * Math.random() * pooledMoney;\n",
    "    if (chanceToWin > 1){\n",
    "        console.log(\"After pooling together all their money, the duo managed to get a \" + person1.favColor + \" plushie. Their favorite!\"); \n",
    "    } else {\n",
    "        console.log(\"despite their valiant efforts, the games win once again. The duo loses all their money trying to get a \" + person1.favColor + \" plushie for \" + person1.name); \n",
    "    }\n",
    "    person1.money = 0;\n",
    "    person2.money = 0;\n",
    "\n",
    "} else {\n",
    "    console.log(person2.whoWon()); \n",
    "    if (person2.money >= 10){\n",
    "        person2.money -= 10;\n",
    "        console.log(\"Firstly, \" + person2.name + \" bought 2 \" + person2.food + \"s for himself and his friend.\") \n",
    "        foodEaten = true;\n",
    "    } else {\n",
    "        console.log(person2.name + \" is broke as heck so both people are hungry all day.\") \n",
    "        foodEaten = false;\n",
    "    }\n",
    "    console.log(\"Now, \" + person2.name + \" has \" + person2.money + \" dollars left over.\");\n",
    "\n",
    "    let rideTotal = Math.floor(person2.tickets / 5)\n",
    "    if (person2.tickets > 5) {\n",
    "        console.log(\"Afterwards, both people decide to ride \" + person2.ride + \" a total of \" + rideTotal + \" times in a row.\") \n",
    "        person2.tickets = 0;\n",
    "    } else {\n",
    "        console.log(person2.name + \" cannot afford the ride for both people, and \" + person1.name + \" isn't sharing, so no \" + person2.ride + \" for them\") \n",
    "    }\n",
    "    if (foodEaten === true && Math.random() > 0.7){ // Changed = to ===\n",
    "        console.log(\"After doing that, both people are nauseous and puke their guts out.\");\n",
    "    } else {\n",
    "        console.log(\"After that, both people are pretty tired and want to play some games.\");\n",
    "    }\n",
    "\n",
    "    let pooledMoney = person1.money + person2.money;\n",
    "    chanceToWin = 0.01 * Math.random() * pooledMoney;\n",
    "    if (chanceToWin > 1){\n",
    "        console.log(\"After pooling together all their money, the duo managed to get a \" + person2.favColor + \" plushie. Their favorite!\"); \n",
    "    } else {\n",
    "        console.log(\"Despite their valiant efforts, the games win once again. The duo loses all their money trying to get a \" + person2.favColor + \" plushie for \" + person2.name);\n",
    "    }\n",
    "    person1.money = 0;\n",
    "    person2.money = 0;\n",
    "}\n",
    "console.log(\"After all this, \" + person1.name + \" and \" + person2.name + \" head home after a long day at the amusement park.\");"
   ]
  }
 ],
 "metadata": {
  "kernelspec": {
   "display_name": "venv",
   "language": "python",
   "name": "python3"
  },
  "language_info": {
   "codemirror_mode": {
    "name": "ipython",
    "version": 3
   },
   "file_extension": ".py",
   "mimetype": "text/x-python",
   "name": "python",
   "nbconvert_exporter": "python",
   "pygments_lexer": "ipython3",
   "version": "3.13.1"
  }
 },
 "nbformat": 4,
 "nbformat_minor": 2
}
