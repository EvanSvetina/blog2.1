{
 "cells": [
  {
   "cell_type": "raw",
   "metadata": {
    "vscode": {
     "languageId": "raw"
    }
   },
   "source": [
    "---\n",
    "layout: post\n",
    "title: Arrays Popcorn Hax 2\n",
    "description: Second exercise for Arrays\n",
    "type: issues\n",
    "comments: true\n",
    "permalink: /csse/javascript/fundamentals/arrays/hacks2\n",
    "---"
   ]
  },
  {
   "cell_type": "markdown",
   "metadata": {},
   "source": [
    "---\n",
    "Popcorn Hack #2\n",
    "---"
   ]
  },
  {
   "cell_type": "markdown",
   "metadata": {},
   "source": [
    "<br>\n",
    "Create a length of a list and print it in console.log()\n",
    "\n",
    "<br>\n",
    "Create a variable called \"list\" or \"my_list_2\"\n",
    "<br>\n",
    "Create a list of numbers or words in the brackets [] Exp: let your_list = [3, 7, 9, 21];\n",
    "<br>\n",
    "Create a const length = your_list.length;\n",
    "<br>\n",
    "After all of that, finally print it out in console.log() Exp: console.log(your_list);\n",
    "<br>\n"
   ]
  },
  {
   "cell_type": "code",
   "execution_count": 5,
   "metadata": {
    "vscode": {
     "languageId": "javascript"
    }
   },
   "outputs": [
    {
     "data": {
      "application/javascript": "\nlet coolPeople = [\"nigilekbam\", \"dumb mist\", \"west stefany\", \"jim\", \"aarav\", \"andrew\", \"tanay\", \"ruhaan\"]; // create an variable \n\nconst length = coolPeople.length; // create a const length\n\nconsole.log(coolPeople.join(\", \")); // print out your list in console\n//style points!!!\n\ncoolPeople[4] = 'sigma boy'\nconsole.log(coolPeople.join(\", \")); \ncoolPeople.splice(4, 1, \"kid named finger\")\nconsole.log(coolPeople.join(\", \")); \n",
      "text/plain": [
       "<IPython.core.display.Javascript object>"
      ]
     },
     "metadata": {},
     "output_type": "display_data"
    }
   ],
   "source": [
    "%%js   \n",
    "\n",
    "let coolPeople = [\"nigilekbam\", \"dumb mist\", \"west stefany\", \"jim\", \"aarav\", \"andrew\", \"tanay\", \"ruhaan\"]; // create an variable \n",
    "\n",
    "const length = coolPeople.length; // create a const length\n",
    "\n",
    "console.log(coolPeople.join(\", \")); // print out your list in console\n",
    "//style points!!!\n",
    "\n",
    "coolPeople[4] = 'sigma boy' //direct replacement\n",
    "console.log(coolPeople.join(\", \")); \n",
    "\n",
    "coolPeople.splice(4, 1, \"kid named finger\") //splice replacement\n",
    "console.log(coolPeople.join(\", \")); \n"
   ]
  }
 ],
 "metadata": {
  "kernelspec": {
   "display_name": "venv",
   "language": "python",
   "name": "python3"
  },
  "language_info": {
   "codemirror_mode": {
    "name": "ipython",
    "version": 3
   },
   "file_extension": ".py",
   "mimetype": "text/x-python",
   "name": "python",
   "nbconvert_exporter": "python",
   "pygments_lexer": "ipython3",
   "version": "3.13.1"
  }
 },
 "nbformat": 4,
 "nbformat_minor": 2
}
