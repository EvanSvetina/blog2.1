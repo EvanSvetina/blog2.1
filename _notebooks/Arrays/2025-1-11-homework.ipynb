{
 "cells": [
  {
   "cell_type": "raw",
   "metadata": {
    "vscode": {
     "languageId": "raw"
    }
   },
   "source": [
    "---\n",
    "layout: post\n",
    "title: Arrays HW\n",
    "description: Homework for Arrays\n",
    "type: issues\n",
    "comments: true\n",
    "permalink: /csse/javascript/fundamentals/arrays/hw\n",
    "---"
   ]
  },
  {
   "cell_type": "markdown",
   "metadata": {},
   "source": [
    "# Homework!! #\n",
    "\n",
    "Your task is to fill in the following code to alter the arrays!"
   ]
  },
  {
   "cell_type": "markdown",
   "metadata": {},
   "source": [
    "# Lesson 1 Homework"
   ]
  },
  {
   "cell_type": "code",
   "execution_count": 2,
   "metadata": {
    "vscode": {
     "languageId": "javascript"
    }
   },
   "outputs": [
    {
     "data": {
      "application/javascript": "//We have an array made for you, but something's off...\nlet desserts = [\"lemon\",\"delete1\",\"ice cream\",\"chocolate cake\",\"key lime pie\",\"delete2\"];\n//We need to get rid of the elements labeled delete1 and delete2!\ndesserts.___();//which command gets rid of the last element in the array?\ndesserts._____(_,_);//which command will delete the delete 1 element and how do you use it??\n\n//now that that's done... a lemon isn't a dessert unless you're weird... maybe change it to a lemon-themed dessert?\ndesserts[_]=\"put your lemon-themed dessert here :D\";\n\n//hint for the previous 2 fill-in-the-blanks: the indexing starts at 0\n\n//okay okay, you've proven your skills... now all that's left is to print the list!\n",
      "text/plain": [
       "<IPython.core.display.Javascript object>"
      ]
     },
     "metadata": {},
     "output_type": "display_data"
    }
   ],
   "source": [
    "%%js\n",
    "//We have an array made for you, but something's off...\n",
    "let desserts = [\"lemon\",\"delete1\",\"ice cream\",\"chocolate cake\",\"key lime pie\",\"delete2\"];\n",
    "//We need to get rid of the elements labeled delete1 and delete2!\n",
    "desserts.pop();//which command gets rid of the last element in the array?\n",
    "desserts.splice(1,1);//which command will delete the delete 1 element and how do you use it??\n",
    "\n",
    "//now that that's done... a lemon isn't a dessert unless you're weird... maybe change it to a lemon-themed dessert?\n",
    "desserts[0]=\"lemon froyo\";\n",
    "\n",
    "//hint for the previous 2 fill-in-the-blanks: the indexing starts at 0\n",
    "\n",
    "//okay okay, you've proven your skills... now all that's left is to print the list!"
   ]
  },
  {
   "cell_type": "markdown",
   "metadata": {},
   "source": [
    "# Lesson 2 Homework - Part 1"
   ]
  },
  {
   "cell_type": "code",
   "execution_count": 2,
   "metadata": {
    "vscode": {
     "languageId": "javascript"
    }
   },
   "outputs": [
    {
     "data": {
      "application/javascript": "let coolNumbers = [\"pi\", \"e\", \"0\", \"1\", \"TREE(3)\", \"1\"];\n\n// Print each element and its index\nfor (let i = 0; i < coolNumbers.length; i++) {\n    console.log(coolNumbers[i]);\n    console.log(\"Index:\", i);\n}\n\n// Find last index of \"1\"\nconsole.log(\"Last index of 1:\" + coolNumbers.lastIndexOf(\"1\"));\n",
      "text/plain": [
       "<IPython.core.display.Javascript object>"
      ]
     },
     "metadata": {},
     "output_type": "display_data"
    }
   ],
   "source": [
    "%%js\n",
    "let coolNumbers = [\"pi\", \"e\", \"0\", \"1\", \"TREE(3)\", \"1\"];\n",
    "\n",
    "// Print each element and its index\n",
    "for (let i = 0; i < coolNumbers.length; i++) {\n",
    "    console.log(coolNumbers[i]);\n",
    "    console.log(\"Index:\", i);\n",
    "}\n",
    "\n",
    "// Find last index of \"1\"\n",
    "console.log(\"Last index of 1:\", coolNumbers.lastIndexOf(\"1\"));"
   ]
  },
  {
   "cell_type": "markdown",
   "metadata": {},
   "source": [
    "# Lesson 2 Homework - Part 2"
   ]
  },
  {
   "cell_type": "code",
   "execution_count": 4,
   "metadata": {
    "vscode": {
     "languageId": "javascript"
    }
   },
   "outputs": [
    {
     "data": {
      "application/javascript": "//This is the fairly simple final problem of arrays!\n\n//Create a list here that includes whatever you'd like once again.\nlet coolNumbers = [2, 94, 0, 1, 97927];\n\n\n//Now, print the length of your list! Tip: you don't need to create a variable for the list's length! Just console.log the list.length; it saves you a line :D\n\nconsole.log(coolNumbers.length);\n\n\n//Finally, create a variable to check if a value in your list is included in the list and print that variable you created (it should output true or false)\nlet trueorfalse = false;\nfunction isInlist(n) {\n    if(coolNumbers.includes(n)){\n        trueorfalse = true;\n        console.log(trueorfalse);\n    } else {\n        trueorfalse = false;\n        console.log(trueorfalse);\n    }\n}\nisInlist(2);\nisInlist(913278123);\n\n",
      "text/plain": [
       "<IPython.core.display.Javascript object>"
      ]
     },
     "metadata": {},
     "output_type": "display_data"
    }
   ],
   "source": [
    "%%js\n",
    "//This is the fairly simple final problem of arrays!\n",
    "\n",
    "//Create a list here that includes whatever you'd like once again.\n",
    "let coolNumbers = [2, 94, 0, 1, 97927];\n",
    "\n",
    "\n",
    "//Now, print the length of your list! Tip: you don't need to create a variable for the list's length! Just console.log the list.length; it saves you a line :D\n",
    "\n",
    "console.log(coolNumbers.length);\n",
    "\n",
    "\n",
    "//Finally, create a variable to check if a value in your list is included in the list and print that variable you created (it should output true or false)\n",
    "let trueorfalse = false;\n",
    "function isInlist(n) {\n",
    "    if(coolNumbers.includes(n)){\n",
    "        trueorfalse = true;\n",
    "        console.log(trueorfalse);\n",
    "    } else {\n",
    "        trueorfalse = false;\n",
    "        console.log(trueorfalse);\n",
    "    }\n",
    "}\n",
    "isInlist(2);\n",
    "isInlist(913278123);\n",
    "\n"
   ]
  },
  {
   "cell_type": "markdown",
   "metadata": {
    "vscode": {
     "languageId": "javascript"
    }
   },
   "source": [
    "You're done with your homework!!"
   ]
  }
 ],
 "metadata": {
  "kernelspec": {
   "display_name": "venv",
   "language": "python",
   "name": "python3"
  },
  "language_info": {
   "codemirror_mode": {
    "name": "ipython",
    "version": 3
   },
   "file_extension": ".py",
   "mimetype": "text/x-python",
   "name": "python",
   "nbconvert_exporter": "python",
   "pygments_lexer": "ipython3",
   "version": "3.13.1"
  }
 },
 "nbformat": 4,
 "nbformat_minor": 2
}
