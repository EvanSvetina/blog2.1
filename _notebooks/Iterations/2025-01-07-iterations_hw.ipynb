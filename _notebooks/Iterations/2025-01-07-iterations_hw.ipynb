{
 "cells": [
  {
   "cell_type": "raw",
   "metadata": {
    "vscode": {
     "languageId": "raw"
    }
   },
   "source": [
    "---\n",
    "comments: true\n",
    "layout: post\n",
    "title: Iteration Homework\n",
    "description: Iterations HW\n",
    "permalink: /csse/javascript/fundamentals/iteration/hw\n",
    "categories: [CSSE JavaScript Fundamentals]\n",
    "author: Andrew Ge, Ishan Shrivastava, Pratheep Natarajan, and Ruhaan Bansal\n",
    "---  "
   ]
  },
  {
   "cell_type": "markdown",
   "metadata": {},
   "source": [
    "### Exercise 1: Multiplication Table\n",
    "##### Write a JavaScript program to print the multiplication table for a given number."
   ]
  },
  {
   "cell_type": "markdown",
   "metadata": {},
   "source": [
    "##### Example:\n",
    "##### Input: 3\n",
    "##### Output:\n",
    "##### 3 x 1 = 3\n",
    "##### 3 x 2 = 6\n",
    "##### ...\n",
    "##### 3 x 10 = 30"
   ]
  },
  {
   "cell_type": "code",
   "execution_count": 3,
   "metadata": {
    "vscode": {
     "languageId": "javascript"
    }
   },
   "outputs": [
    {
     "data": {
      "application/javascript": "function multTable(number){ //define a function that uses a loop to create outputs from 0 to 10\n    for(let i = 0; i < 11; i++){\n        console.log(`${number} x ${i} = ${number * i}`); //Prints: n x i = product for every value (0-10)\n    }\n} console.log(multTable(3)); //logs the output when input is 3.\n",
      "text/plain": [
       "<IPython.core.display.Javascript object>"
      ]
     },
     "metadata": {},
     "output_type": "display_data"
    }
   ],
   "source": [
    "%%js\n",
    "function multTable(number){ //define a function that uses a loop to create outputs from 0 to 10\n",
    "    for(let i = 0; i < 11; i++){\n",
    "        console.log(`${number} x ${i} = ${number * i}`); //Prints: n x i = product for every value (0-10)\n",
    "    }\n",
    "} console.log(multTable(3)); //logs the output when input is 3.\n"
   ]
  },
  {
   "cell_type": "markdown",
   "metadata": {},
   "source": [
    "### Exercise 2: Nested Loops\n",
    "##### Write a JavaScript program using nested loops to generate the following pattern:"
   ]
  },
  {
   "cell_type": "markdown",
   "metadata": {},
   "source": [
    "##### Output:\n",
    "##### 0\n",
    "##### 00\n",
    "##### 000\n",
    "##### 0000\n",
    "##### 00000"
   ]
  },
  {
   "cell_type": "code",
   "execution_count": 4,
   "metadata": {
    "vscode": {
     "languageId": "javascript"
    }
   },
   "outputs": [
    {
     "data": {
      "application/javascript": "for(let i = 1; i <=5; i++){ \n    let zeroString = \"\"; //defines the string that will fill with zeros\n    for (let j = 1; j <= i; j++){\n        zeroString += \"0\"; //fills string wtih one zero, the prints it below. previous loop runs this 5 times.\n    }\n    console.log(zeroString);\n} \n",
      "text/plain": [
       "<IPython.core.display.Javascript object>"
      ]
     },
     "metadata": {},
     "output_type": "display_data"
    }
   ],
   "source": [
    "%%js\n",
    "for(let i = 1; i <=5; i++){ \n",
    "    let zeroString = \"\"; //defines the string that will fill with zeros\n",
    "    for (let j = 1; j <= i; j++){\n",
    "        zeroString += \"0\"; //fills string wtih one zero, the prints it below. previous loop runs this 5 times.\n",
    "    }\n",
    "    console.log(zeroString);\n",
    "} "
   ]
  },
  {
   "cell_type": "markdown",
   "metadata": {},
   "source": [
    "### Challenge Exercise: Prime Numbers\n",
    "##### Write a JavaScript program to print all prime numbers between 1 and 50."
   ]
  },
  {
   "cell_type": "code",
   "execution_count": null,
   "metadata": {
    "vscode": {
     "languageId": "javascript"
    }
   },
   "outputs": [
    {
     "data": {
      "application/javascript": "const primes = ['2', '3', '5', '7', '11', '13', '17', '19', '23', '29', '31', '37', '41', '43', '47'];\nfor (let prime of primes){\n    console.log(prime);\n}\n//if you guys don't like this approach, there is technically another way to do it using for loops that is WAY more time consuming. \n// I'm not actually going to do it, but i will describe how:\n//Create a function isPrime that divides the inputted value by all prime values till 50 (so, the above array, one by one)\n//Sum all those numbers or combine them some other way\n",
      "text/plain": [
       "<IPython.core.display.Javascript object>"
      ]
     },
     "metadata": {},
     "output_type": "display_data"
    }
   ],
   "source": [
    "%%js \n",
    "const primes = ['2', '3', '5', '7', '11', '13', '17', '19', '23', '29', '31', '37', '41', '43', '47']; //array with all primes\n",
    "for (let prime of primes){\n",
    "    console.log(prime); //logs each entry individually\n",
    "}\n",
    "//if you guys don't like this approach, that's okay. Another answer below:"
   ]
  },
  {
   "cell_type": "code",
   "execution_count": 5,
   "metadata": {
    "vscode": {
     "languageId": "javascript"
    }
   },
   "outputs": [
    {
     "data": {
      "application/javascript": "function primeCheck(n){\n    if(n <= 1) return false;\n    for (let i = 2; i <= Math.sqrt(n); i++){ //Divisors come in pairs. If say n is 36: if n is divisible by 4, it'll also be divisible by its pair. Therefore, the highest we need to go is the square root of n since higher numbers will just loop back to previous divisor pairs.\n        if (n % i === 0) return false; //abort if necessary\n    } \n    return true //if n passes all checks, say it works!\n}\nfor (let i = 1; i <= 50; i++) {\n    if (primeCheck(i)) {//Check all primes from 1 to 50\n        console.log(i); //log results\n    }\n}\n",
      "text/plain": [
       "<IPython.core.display.Javascript object>"
      ]
     },
     "metadata": {},
     "output_type": "display_data"
    }
   ],
   "source": [
    "%%js\n",
    "function primeCheck(n){\n",
    "    if(n <= 1) return false;\n",
    "    for (let i = 2; i <= Math.sqrt(n); i++){ //Divisors come in pairs. If say n is 36: if n is divisible by 4, it'll also be divisible by its pair. Therefore, the highest we need to go is the square root of n since higher numbers will just loop back to previous divisor pairs.\n",
    "        if (n % i === 0) return false; //abort if necessary\n",
    "    } \n",
    "    return true //if n passes all checks, say it works!\n",
    "}\n",
    "for (let i = 1; i <= 50; i++) {\n",
    "    if (primeCheck(i)) {//Check all primes from 1 to 50\n",
    "        console.log(i); //log results\n",
    "    }\n",
    "}"
   ]
  },
  {
   "cell_type": "markdown",
   "metadata": {},
   "source": [
    "# End of Homework"
   ]
  }
 ],
 "metadata": {
  "kernelspec": {
   "display_name": "venv",
   "language": "python",
   "name": "python3"
  },
  "language_info": {
   "codemirror_mode": {
    "name": "ipython",
    "version": 3
   },
   "file_extension": ".py",
   "mimetype": "text/x-python",
   "name": "python",
   "nbconvert_exporter": "python",
   "pygments_lexer": "ipython3",
   "version": "3.13.1"
  }
 },
 "nbformat": 4,
 "nbformat_minor": 2
}
