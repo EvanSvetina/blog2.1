{
 "cells": [
  {
   "cell_type": "raw",
   "metadata": {
    "vscode": {
     "languageId": "raw"
    }
   },
   "source": [
    "---\n",
    "layout: post\n",
    "title: Popcorn Hacks\n",
    "description:  Popcorn Hacks for lessons.\n",
    "type: issues \n",
    "comments: true\n",
    "---"
   ]
  },
  {
   "cell_type": "markdown",
   "metadata": {},
   "source": [
    "# JavaScript Classes and Methods - Interactive Popcorns \n",
    "In this notebook, you will learn about classes and methods in JavaScript. During the lesson, use these to enhance your understanding of clases and methods\n",
    "### \n",
    "- **Objectivs**: Do something - Change Later\n",
    "- **How**:\n",
    "\n"
   ]
  },
  {
   "cell_type": "code",
   "execution_count": null,
   "metadata": {
    "vscode": {
     "languageId": "javascript"
    }
   },
   "outputs": [],
   "source": [
    "//Exercise 1: Create a Rectangle (aka a fridge)\n",
    "\n",
    "class Rectangle {\n",
    "    constructor(w, h) {\n",
    "        this.width = w;\n",
    "        this.height = h;\n",
    "    }\n",
    "}\n",
    "Rectangle(10, 20);\n",
    "\n",
    "\n",
    "/*Exercise 2: Change Dimensions\n",
    "Use the Rectangle to:\n",
    "Part a.) Create a rectangle with a width of 20 and height of 40.\n",
    "Part b.) Change the dimensions to make the area 200 units². */\n",
    "\n",
    "Rectangle(20, 40)\n",
    "rectangle.height = 10;\n",
    "\n",
    "//Exercise 3: Experiment with Areas\n",
    "//a.) Find all pairs of dimensions that give an area of 48 units².\n",
    "\n",
    "let area = rectangle.width * rectangle.height;\n",
    "if (area === 48) {\n",
    "    console.log(rectangle.width, rectangle.height);\n",
    "}\n",
    "\n",
    "\n",
    "//Exercise 4: Rectangle Class (Missing Methods)\n",
    "class Rectangle {\n",
    "    constructor(width, height) {\n",
    "        this.width = width;\n",
    "        this.height = height;\n",
    "    }\n",
    "    // **Code missing**: Add method to calculate the perimeter of the rectangle\n",
    "    getPerimeter() {\n",
    "        // Add logic here to return the perimeter\n",
    "    }\n",
    "}\n",
    "const rect = new Rectangle(10, 5);\n",
    "console.log(rect.getPerimeter()); // Output should be 30\n",
    "\n",
    "12:06\n",
    "// Exercise 5: Square Class (Missing Method)\n",
    "class Square {\n",
    "    constructor(sideLength) {\n",
    "        this.sideLength = sideLength;\n",
    "    }\n",
    "    // **Code missing**: Add method to calculate the diagonal of the square\n",
    "    getDiagonal() {\n",
    "        // Add logic here to calculate and return the diagonal\n",
    "    }\n",
    "}\n",
    "const square = new Square(5);\n",
    "console.log(square.getDiagonal()); // Output should be 7.07 (sideLength * √2)\n"
   ]
  }
 ],
 "metadata": {
  "language_info": {
   "name": "python"
  }
 },
 "nbformat": 4,
 "nbformat_minor": 2
}
